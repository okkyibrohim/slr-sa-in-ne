{
 "cells": [
  {
   "cell_type": "code",
   "execution_count": 1,
   "id": "4e8002b8",
   "metadata": {},
   "outputs": [],
   "source": [
    "import pandas as pd\n",
    "import metadata_parser as mp\n",
    "import requests\n",
    "from bs4 import BeautifulSoup as bs\n",
    "import re\n",
    "import undetected_chromedriver as uc\n",
    "import time"
   ]
  },
  {
   "cell_type": "code",
   "execution_count": 2,
   "id": "87bf4c69",
   "metadata": {},
   "outputs": [],
   "source": [
    "# Call dataset\n",
    "ieee = pd.read_excel(\"./paper-links/PaperLinks_IEEEXplore.xlsx\")"
   ]
  },
  {
   "cell_type": "code",
   "execution_count": null,
   "id": "930b4145",
   "metadata": {},
   "outputs": [],
   "source": [
    "# Get the paper metadata\n",
    "list_year, list_title, list_conf_jour, list_authors, list_keywords, list_abstract = [], [], [], [], [], []\n",
    "driver = uc.Chrome()\n",
    "index = 1\n",
    "for paper_url in ieee[\"Paper Links\"]:\n",
    "    try:\n",
    "        # Get page\n",
    "        page = mp.MetadataParser(paper_url)\n",
    "        page_bs = requests.get(paper_url)\n",
    "        time.sleep(5)\n",
    "        parsed_bs = bs(page_bs.text,'html.parser')\n",
    "        # Get Year\n",
    "        try:\n",
    "            ls_year = str(parsed_bs).split('publicationDate')\n",
    "            year_dirty = ls_year[2].split('\",\"')\n",
    "            year = year_dirty[0].split(\" \")[1]\n",
    "        except:\n",
    "            year = \"failed_to_scrap\"   \n",
    "        # Get Title\n",
    "        try:\n",
    "            title = page.get_metadatas('og:title')\n",
    "            title = title[0]\n",
    "        except:\n",
    "            title = \"failed_to_scrap\" \n",
    "        # Get Conf/Journal Name\n",
    "        try:\n",
    "            ls_conf_jour = str(parsed_bs).split('publicationTitle')\n",
    "            conf_jour_dirty = ls_conf_jour[1].split('\",\"')\n",
    "            conf_jour_name = re.sub(\"[\\:\\\"]\", \"\", conf_jour_dirty[0]).strip()\n",
    "        except:\n",
    "            conf_jour_name = \"failed_to_scrap\"\n",
    "        # Get Authors\n",
    "        authors_url = paper_url+\"authors#authors\"\n",
    "        try:\n",
    "            driver.get(authors_url)\n",
    "            time.sleep(10)\n",
    "            try:\n",
    "                driver.find_element_by_css_selector(\"[aria-label='dismiss cookie message'\").click()\n",
    "                time.sleep(5)\n",
    "            except:\n",
    "                pass\n",
    "            get_element = driver.find_elements_by_css_selector(\"div[class='authors-accordion-container']\")\n",
    "            authors = \"failed_to_scrap\" # Just in case failed to find the class\n",
    "            for i in range(0,len(get_element)):\n",
    "                if i == 0:\n",
    "                    authors = get_element[i].text.split(\"\\n\")[0]\n",
    "                else:\n",
    "                    authors = authors+\", \"+get_element[i].text.split(\"\\n\")[0]\n",
    "        except:\n",
    "            authors = \"failed_to_scrap\" \n",
    "        # Get Keywords\n",
    "        try:\n",
    "            ls_key = str(parsed_bs).split('{\"type\":\"Author Keywords \",\"kwd\":')\n",
    "            key_dirty = ls_key[1].split(\"]}]\")\n",
    "            keywords = re.sub(\"[\\[\\\"]\", \"\", key_dirty[0]).strip()\n",
    "            keywords = re.sub(\",\", \", \", keywords).strip()\n",
    "        except:\n",
    "            keywords = \"failed_to_scrap\"    \n",
    "        # Get Abstract\n",
    "        try:\n",
    "            abstract = page.get_metadatas('og:description')\n",
    "            abstract = abstract[0]\n",
    "        except:\n",
    "            abstract = \"failed_to_scrap\"\n",
    "    except:\n",
    "        year = \"failed_to_scrap\"\n",
    "        title = \"failed_to_scrap\"\n",
    "        conf_jour_name = \"failed_to_scrap\"\n",
    "        authors = \"failed_to_scrap\"\n",
    "        keywords = \"failed_to_scrap\"\n",
    "        abstract = \"failed_to_scrap\"\n",
    "        \n",
    "    # Append to the list\n",
    "    list_year.append(year)\n",
    "    list_title.append(title)\n",
    "    list_conf_jour.append(conf_jour_name)\n",
    "    list_authors.append(authors)\n",
    "    list_keywords.append(keywords)\n",
    "    list_abstract.append(abstract)\n",
    "    print(index)\n",
    "    index += 1\n",
    "\n",
    "driver.quit()"
   ]
  },
  {
   "cell_type": "code",
   "execution_count": 8,
   "id": "190db881",
   "metadata": {},
   "outputs": [],
   "source": [
    "# Concatenate list as new column\n",
    "ieee[\"Year\"], ieee[\"Title\"], ieee[\"Conf/Journal Name\"] = list_year, list_title, list_conf_jour\n",
    "ieee[\"Authors\"], ieee[\"Keywords\"], ieee[\"Abstract\"] = list_authors, list_keywords, list_abstract"
   ]
  },
  {
   "cell_type": "code",
   "execution_count": 9,
   "id": "0ff3e022",
   "metadata": {},
   "outputs": [],
   "source": [
    "ieee.to_excel(\"./paper-metadata/PaperMetadata_Unclean_IEEEXplore.xlsx\", index = False)"
   ]
  }
 ],
 "metadata": {
  "kernelspec": {
   "display_name": "Python 3 (ipykernel)",
   "language": "python",
   "name": "python3"
  },
  "language_info": {
   "codemirror_mode": {
    "name": "ipython",
    "version": 3
   },
   "file_extension": ".py",
   "mimetype": "text/x-python",
   "name": "python",
   "nbconvert_exporter": "python",
   "pygments_lexer": "ipython3",
   "version": "3.10.2"
  }
 },
 "nbformat": 4,
 "nbformat_minor": 5
}
