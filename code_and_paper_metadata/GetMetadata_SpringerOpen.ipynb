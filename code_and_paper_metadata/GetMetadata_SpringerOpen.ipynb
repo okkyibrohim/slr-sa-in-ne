{
 "cells": [
  {
   "cell_type": "code",
   "execution_count": 1,
   "id": "4e8002b8",
   "metadata": {},
   "outputs": [],
   "source": [
    "import pandas as pd\n",
    "import metadata_parser as mp\n",
    "import requests\n",
    "from bs4 import BeautifulSoup as bs\n",
    "import re"
   ]
  },
  {
   "cell_type": "code",
   "execution_count": 2,
   "id": "87bf4c69",
   "metadata": {},
   "outputs": [],
   "source": [
    "# Call dataset\n",
    "springer_open = pd.read_excel(\"./paper-links/PaperLinks_SpringerOpen.xlsx\")"
   ]
  },
  {
   "cell_type": "code",
   "execution_count": null,
   "id": "930b4145",
   "metadata": {},
   "outputs": [],
   "source": [
    "# Get the paper metadata\n",
    "list_year, list_title, list_conf_jour, list_authors, list_keywords, list_abstract = [], [], [], [], [], []\n",
    "\n",
    "for paper_url in springer_open[\"Paper Links\"]:\n",
    "    # Get page\n",
    "    page = mp.MetadataParser(paper_url)\n",
    "    page_bs = requests.get(paper_url)\n",
    "    parsed_bs = bs(page_bs.text,'html.parser') \n",
    "    # Get Authors\n",
    "    authors_list = page.get_metadatas('citation_author')\n",
    "    try:\n",
    "        for i in range(0,len(authors_list)):\n",
    "            if i == 0:\n",
    "                authors = authors_list[i].split(\",\", 1)[1]+\" \"+authors_list[i].split(\",\", 1)[0]\n",
    "            else:\n",
    "                authors = authors+\",\"+authors_list[i].split(\",\", 1)[1]+\" \"+authors_list[i].split(\",\", 1)[0]\n",
    "            if i == len(authors_list)-1:\n",
    "                authors = authors.strip()\n",
    "                break\n",
    "        # Get Year\n",
    "        year = page.get_metadatas('citation_publication_date')\n",
    "        year = year[0].split(\"/\", 1)[0]\n",
    "        # Get Title\n",
    "        title = page.get_metadatas('citation_title')\n",
    "        title = title[0]\n",
    "        # Get Conf/Journal Name\n",
    "        conf_jour_name = page.get_metadatas('citation_journal_title')\n",
    "        conf_jour_name = conf_jour_name[0]\n",
    "        # Get Keywords\n",
    "        keywords_list = parsed_bs.find_all(class_='c-article-subject-list__subject')\n",
    "        for i in range(0,len(keywords_list)):\n",
    "            if i == 0:\n",
    "                keywords = re.search('<span>(.*)</span>', str(keywords_list[i])).group(1)\n",
    "            else:\n",
    "                keywords = keywords+\", \"+re.search('<span>(.*)</span>', str(keywords_list[i])).group(1)\n",
    "            if i == len(keywords_list)-1:\n",
    "                keywords = keywords.strip()\n",
    "                break\n",
    "        # Get Abstract\n",
    "        abstract = page.get_metadatas('description')\n",
    "        abstract = abstract[0]\n",
    "\n",
    "        # Append to the list\n",
    "        list_year.append(year)\n",
    "        list_title.append(title)\n",
    "        list_conf_jour.append(conf_jour_name)\n",
    "        list_authors.append(authors)\n",
    "        list_keywords.append(keywords)\n",
    "        list_abstract.append(abstract)\n",
    "        \n",
    "    except:\n",
    "        # Append to the list\n",
    "        list_year.append(\"not_a_paper\")\n",
    "        list_title.append(\"not_a_paper\")\n",
    "        list_conf_jour.append(\"not_a_paper\")\n",
    "        list_authors.append(\"not_a_paper\")\n",
    "        list_keywords.append(\"not_a_paper\")\n",
    "        list_abstract.append(\"not_a_paper\")       "
   ]
  },
  {
   "cell_type": "code",
   "execution_count": 4,
   "id": "190db881",
   "metadata": {},
   "outputs": [],
   "source": [
    "# Concatenate list as new column\n",
    "springer_open[\"Year\"], springer_open[\"Title\"], springer_open[\"Conf/Journal Name\"] = list_year, list_title, list_conf_jour\n",
    "springer_open[\"Authors\"], springer_open[\"Keywords\"], springer_open[\"Abstract\"] = list_authors, list_keywords, list_abstract"
   ]
  },
  {
   "cell_type": "code",
   "execution_count": 5,
   "id": "0ff3e022",
   "metadata": {},
   "outputs": [],
   "source": [
    "springer_open.to_excel(\"./paper-metadata/PaperMetadata_Unclean_SpringerOpen.xlsx\", index = False)"
   ]
  }
 ],
 "metadata": {
  "kernelspec": {
   "display_name": "Python 3 (ipykernel)",
   "language": "python",
   "name": "python3"
  },
  "language_info": {
   "codemirror_mode": {
    "name": "ipython",
    "version": 3
   },
   "file_extension": ".py",
   "mimetype": "text/x-python",
   "name": "python",
   "nbconvert_exporter": "python",
   "pygments_lexer": "ipython3",
   "version": "3.10.2"
  }
 },
 "nbformat": 4,
 "nbformat_minor": 5
}
