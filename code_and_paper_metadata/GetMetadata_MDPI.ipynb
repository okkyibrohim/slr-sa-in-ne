{
 "cells": [
  {
   "cell_type": "code",
   "execution_count": 1,
   "id": "4e8002b8",
   "metadata": {},
   "outputs": [],
   "source": [
    "import pandas as pd\n",
    "import metadata_parser as mp"
   ]
  },
  {
   "cell_type": "markdown",
   "id": "91f374aa",
   "metadata": {},
   "source": [
    "# Get All Metadata"
   ]
  },
  {
   "cell_type": "code",
   "execution_count": 2,
   "id": "87bf4c69",
   "metadata": {},
   "outputs": [],
   "source": [
    "# Call dataset\n",
    "mdpi = pd.read_excel(\"./paper-links/PaperLinks_MDPI_DropDulicated.xlsx\")"
   ]
  },
  {
   "cell_type": "code",
   "execution_count": null,
   "id": "930b4145",
   "metadata": {},
   "outputs": [],
   "source": [
    "# Get the paper metadata\n",
    "list_year, list_title, list_conf_jour, list_authors, list_keywords, list_abstract = [], [], [], [], [], []\n",
    "\n",
    "for paper_url in mdpi[\"Paper Links\"]:\n",
    "    page = mp.MetadataParser(paper_url)\n",
    "    # Get Year\n",
    "    year = (page.get_metadatas('citation_publication_date')) \n",
    "    year = year[0].split(\"/\", 1)[0]\n",
    "    # Get Title\n",
    "    title = page.get_metadatas('citation_title')\n",
    "    title = title[0]\n",
    "    # Get Conf/Journal Name\n",
    "    conf_jour_name = (page.get_metadatas('citation_journal_title'))\n",
    "    conf_jour_name = conf_jour_name[0]\n",
    "    # Get Authors\n",
    "    authors_list = (page.get_metadatas('citation_author'))\n",
    "    for i in range(0,len(authors_list)):\n",
    "        if i == 0:\n",
    "            authors = authors_list[i].split(\",\", 1)[1]+\" \"+authors_list[i].split(\",\", 1)[0]\n",
    "        else:\n",
    "            authors = authors+\",\"+authors_list[i].split(\",\", 1)[1]+\" \"+authors_list[i].split(\",\", 1)[0]\n",
    "        if i == len(authors_list)-1:\n",
    "            authors = authors.strip()\n",
    "            break\n",
    "    # Get Keywords\n",
    "    keywords_list = (page.get_metadatas('subject'))\n",
    "    for i in range(0,len(keywords_list)):\n",
    "        if i == 0:\n",
    "            keywords = list(keywords_list[i].values())[0]\n",
    "        else:\n",
    "            keywords = keywords+\", \"+list(keywords_list[i].values())[0]\n",
    "        if i == len(keywords_list)-1:\n",
    "            keywords = keywords.strip()\n",
    "            break\n",
    "    # Get Abstract\n",
    "    abstract = page.get_metadatas('description')\n",
    "    abstract = abstract[0]\n",
    "    \n",
    "    # Append to the list\n",
    "    list_year.append(year)\n",
    "    list_title.append(title)\n",
    "    list_conf_jour.append(conf_jour_name)\n",
    "    list_authors.append(authors)\n",
    "    list_keywords.append(keywords)\n",
    "    list_abstract.append(abstract)"
   ]
  },
  {
   "cell_type": "code",
   "execution_count": 4,
   "id": "190db881",
   "metadata": {},
   "outputs": [],
   "source": [
    "# Concatenate list as new column\n",
    "mdpi[\"Year\"], mdpi[\"Title\"], mdpi[\"Conf/Journal Name\"] = list_year, list_title, list_conf_jour\n",
    "mdpi[\"Authors\"], mdpi[\"Keywords\"], mdpi[\"Abstract\"] = list_authors, list_keywords, list_abstract"
   ]
  },
  {
   "cell_type": "code",
   "execution_count": 5,
   "id": "0ff3e022",
   "metadata": {},
   "outputs": [],
   "source": [
    "mdpi.to_excel(\"./paper-metadata/PaperMetadata_Unclean_MDPI.xlsx\", index = False)"
   ]
  }
 ],
 "metadata": {
  "kernelspec": {
   "display_name": "Python 3 (ipykernel)",
   "language": "python",
   "name": "python3"
  },
  "language_info": {
   "codemirror_mode": {
    "name": "ipython",
    "version": 3
   },
   "file_extension": ".py",
   "mimetype": "text/x-python",
   "name": "python",
   "nbconvert_exporter": "python",
   "pygments_lexer": "ipython3",
   "version": "3.10.2"
  }
 },
 "nbformat": 4,
 "nbformat_minor": 5
}
