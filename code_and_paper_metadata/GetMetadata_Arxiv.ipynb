{
 "cells": [
  {
   "cell_type": "code",
   "execution_count": 1,
   "id": "7c8cc785",
   "metadata": {},
   "outputs": [],
   "source": [
    "import pandas as pd\n",
    "import metadata_parser as mp\n",
    "import requests\n",
    "from bs4 import BeautifulSoup as bs\n",
    "import re\n",
    "import undetected_chromedriver as uc\n",
    "import time"
   ]
  },
  {
   "cell_type": "code",
   "execution_count": 2,
   "id": "517a382c",
   "metadata": {},
   "outputs": [],
   "source": [
    "arxiv = pd.read_excel(\"./paper-links/PaperLinks_Arxiv.xlsx\")"
   ]
  },
  {
   "cell_type": "code",
   "execution_count": null,
   "id": "ead17094",
   "metadata": {},
   "outputs": [],
   "source": [
    "# Get the paper metadata\n",
    "list_year, list_title, list_conf_jour, list_authors, list_keywords, list_abstract = [], [], [], [], [], []\n",
    "driver = uc.Chrome()\n",
    "index = 1\n",
    "for paper_url in arxiv[\"Paper Links\"]:\n",
    "    # Get Page\n",
    "    driver.get(paper_url)\n",
    "    time.sleep(5)\n",
    "    \n",
    "    # Get Year\n",
    "    try:\n",
    "        year_html = driver.find_element_by_xpath(\"//meta[@name='citation_date']\")\n",
    "        year = year_html.get_attribute(\"content\").split(\"/\")[0]\n",
    "    except:\n",
    "        year = \"failed_to_scrap\"\n",
    "        \n",
    "    # Get Title\n",
    "    try:\n",
    "        title_html = driver.find_element_by_xpath(\"//meta[@name='citation_title']\")\n",
    "        title = title_html.get_attribute(\"content\")\n",
    "    except:\n",
    "        title = \"failed_to_scrap\"\n",
    "        \n",
    "    # Get Conf/Journal Name\n",
    "    conf_jour_name = \"arxiv_preprint\"\n",
    "    \n",
    "    # Get Authors\n",
    "    try:\n",
    "        authors_html = driver.find_elements_by_xpath(\"//meta[@name='citation_author']\")\n",
    "        for i in range(0,len(authors_html)):\n",
    "            authors_name = authors_html[i].get_attribute(\"content\").split(\", \")\n",
    "            if i == 0:\n",
    "                authors = authors_name[1]+\" \"+authors_name[0]\n",
    "            else:\n",
    "                authors = authors+\", \"+authors_name[1]+\" \"+authors_name[0]\n",
    "    except:\n",
    "        authors = \"failed_to_scrap\"\n",
    "    \n",
    "    # Get Keywords\n",
    "    keywords = \"no_keywords\" # Arxiv does not provide keywords metadata like ACL\n",
    "    \n",
    "    # Get Abstract\n",
    "    try:\n",
    "        abstract_html = driver.find_element_by_xpath(\"//meta[@name='citation_abstract']\")\n",
    "        abstract = abstract_html.get_attribute(\"content\")\n",
    "        abstract = re.sub(\"\\n\",\"\",abstract).strip()\n",
    "    except:\n",
    "        abstract = \"failed_to_scrap\"\n",
    "    \n",
    "    # Append to the list\n",
    "    list_year.append(year)\n",
    "    list_title.append(title)\n",
    "    list_conf_jour.append(conf_jour_name)\n",
    "    list_authors.append(authors)\n",
    "    list_keywords.append(keywords)\n",
    "    list_abstract.append(abstract)\n",
    "    print(index)\n",
    "    index += 1\n",
    "\n",
    "driver.close()"
   ]
  },
  {
   "cell_type": "code",
   "execution_count": 4,
   "id": "c940f83b",
   "metadata": {},
   "outputs": [],
   "source": [
    "# Concatenate list as new column\n",
    "arxiv[\"Year\"], arxiv[\"Title\"], arxiv[\"Conf/Journal Name\"] = list_year, list_title, list_conf_jour\n",
    "arxiv[\"Authors\"], arxiv[\"Keywords\"], arxiv[\"Abstract\"] = list_authors, list_keywords, list_abstract"
   ]
  },
  {
   "cell_type": "code",
   "execution_count": 6,
   "id": "2e5c98f3",
   "metadata": {},
   "outputs": [],
   "source": [
    "arxiv.to_excel(\"./paper-metadata/PaperMetadata_Unclean_Arxiv.xlsx\", index = False)"
   ]
  }
 ],
 "metadata": {
  "kernelspec": {
   "display_name": "Python 3 (ipykernel)",
   "language": "python",
   "name": "python3"
  },
  "language_info": {
   "codemirror_mode": {
    "name": "ipython",
    "version": 3
   },
   "file_extension": ".py",
   "mimetype": "text/x-python",
   "name": "python",
   "nbconvert_exporter": "python",
   "pygments_lexer": "ipython3",
   "version": "3.10.2"
  }
 },
 "nbformat": 4,
 "nbformat_minor": 5
}
