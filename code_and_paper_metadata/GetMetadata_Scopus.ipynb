{
 "cells": [
  {
   "cell_type": "code",
   "execution_count": 1,
   "id": "9700d2df",
   "metadata": {},
   "outputs": [],
   "source": [
    "import pandas as pd\n",
    "import metadata_parser as mp\n",
    "import requests\n",
    "from bs4 import BeautifulSoup as bs\n",
    "import re\n",
    "import undetected_chromedriver as uc\n",
    "import time"
   ]
  },
  {
   "cell_type": "markdown",
   "id": "2a5facdb",
   "metadata": {},
   "source": [
    "# Login Bibliopass"
   ]
  },
  {
   "attachments": {},
   "cell_type": "markdown",
   "id": "b1674f71",
   "metadata": {},
   "source": [
    "Bibliopass is a remote publisher library owned by the University of Turin. Each remote publisher library may have a different login interface/scheme so you need to modify this login code. If you want to use a Scopus subscription account, you also need to modify this login code. If you do not have access to log in to Scopus, you cannot use this code."
   ]
  },
  {
   "cell_type": "code",
   "execution_count": 2,
   "id": "acb7732e",
   "metadata": {},
   "outputs": [],
   "source": [
    "scopus_url = \"https://www-scopus-com.bibliopass.unito.it/\""
   ]
  },
  {
   "cell_type": "code",
   "execution_count": 3,
   "id": "18feff3c",
   "metadata": {},
   "outputs": [],
   "source": [
    "driver = uc.Chrome()"
   ]
  },
  {
   "cell_type": "code",
   "execution_count": 4,
   "id": "4b831182",
   "metadata": {},
   "outputs": [],
   "source": [
    "driver.get(scopus_url)\n",
    "time.sleep(5)"
   ]
  },
  {
   "cell_type": "code",
   "execution_count": null,
   "id": "99ce8b15",
   "metadata": {},
   "outputs": [],
   "source": [
    "try:\n",
    "    username = driver.find_element_by_id(\"username\")\n",
    "    password = driver.find_element_by_id(\"password\")\n",
    "    username.send_keys(\"your_username\")\n",
    "    password.send_keys(\"your_password\")\n",
    "    driver.find_element_by_name(\"_eventId_proceed\").click()\n",
    "except:\n",
    "    pass"
   ]
  },
  {
   "cell_type": "markdown",
   "id": "e6de2a99",
   "metadata": {},
   "source": [
    "# Get All Metadata"
   ]
  },
  {
   "cell_type": "code",
   "execution_count": 81,
   "id": "f9de8278",
   "metadata": {},
   "outputs": [],
   "source": [
    "# Call the dataset\n",
    "scopus = pd.read_excel(\"PaperLinks_Scopus.xlsx\")"
   ]
  },
  {
   "cell_type": "code",
   "execution_count": null,
   "id": "0470e362",
   "metadata": {},
   "outputs": [],
   "source": [
    "# Login Bibliopass\n",
    "scopus_url = \"https://www-scopus-com.bibliopass.unito.it/\"\n",
    "driver = uc.Chrome()\n",
    "driver.get(scopus_url)\n",
    "time.sleep(5)\n",
    "try: # login\n",
    "    username = driver.find_element_by_id(\"username\")\n",
    "    password = driver.find_element_by_id(\"password\")\n",
    "    username.send_keys(\"your_username\")\n",
    "    password.send_keys(\"your_password\")\n",
    "    driver.find_element_by_name(\"_eventId_proceed\").click()\n",
    "except:\n",
    "    pass # pass the login process if already login\n",
    "\n",
    "list_year, list_title, list_conf_jour, list_authors, list_keywords, list_abstract = [], [], [], [], [], []\n",
    "\n",
    "for paper_url in scopus[\"Paper Links\"]:\n",
    "    # Get Page\n",
    "    driver.get(paper_url)\n",
    "    time.sleep(5)\n",
    "    \n",
    "    # Get Year\n",
    "    try:\n",
    "        year_html = driver.find_element_by_css_selector(\"div[id='publicationYear']\")\n",
    "        year = year_html.get_attribute('innerHTML')\n",
    "    except:\n",
    "        year = \"failed_to_scrap\"\n",
    "        \n",
    "    # Get Title\n",
    "    try:\n",
    "        title_html = driver.find_element_by_css_selector(\"span[class='Highlight-module__1p2SO']\")\n",
    "        title = title_html.text\n",
    "    except:\n",
    "        title = \"failed_to_scrap\"\n",
    "        \n",
    "    # Get Conf/Journal Name\n",
    "    try:\n",
    "        conf_jour_html = driver.find_element_by_css_selector(\"div[id='publicationTitle']\")\n",
    "        conf_jour_name = conf_jour_html.get_attribute('innerHTML')\n",
    "    except:\n",
    "        conf_jour_name = \"failed_to_scrap\"\n",
    "    \n",
    "    # Get Authors\n",
    "    try:\n",
    "        get_authors_html = driver.find_element_by_css_selector(\"div[data-testid='author-list']\")\n",
    "        get_authors_string_dirty = str(get_authors_html.get_attribute('innerHTML'))\n",
    "        get_authors_list_dirty = get_authors_string_dirty.split('screenreadertext=\"Send mail to ')[1:]\n",
    "        authors_list = []\n",
    "        for i in get_authors_list_dirty:\n",
    "            authors_list.append(i.split('\"')[0])    \n",
    "        authors = ', '.join(authors_list)\n",
    "    except:\n",
    "        authors = \"failed_to_scrap\" \n",
    "    \n",
    "    # Get Keywords\n",
    "    try:\n",
    "        get_keywords_html = driver.find_element_by_css_selector(\"div[class='margin-size-4-t']\")\n",
    "        get_keywords_string_dirty = str(get_keywords_html.get_attribute('innerHTML'))\n",
    "        get_keywords_list_dirty = get_keywords_string_dirty.split('<span class=\"Highlight-module__1p2SO\">')[1:]\n",
    "        keywords_list = []\n",
    "        for i in get_keywords_list_dirty:\n",
    "            keywords_list.append(i.split('</span>')[0])    \n",
    "        keywords = ', '.join(keywords_list)\n",
    "    except:\n",
    "        keywords = \"failed_to_scrap\"\n",
    "        \n",
    "    # Get Abstract\n",
    "    try:\n",
    "        get_abstract_html = driver.find_element_by_css_selector(\"div[class='margin-size-4-t margin-size-16-b']\")\n",
    "        get_abstract_string_dirty = str(get_abstract_html.get_attribute('innerHTML'))\n",
    "        get_abstract_list_dirty = get_abstract_string_dirty.split('<span class=\"Highlight-module__1p2SO\">')[1:]\n",
    "        abstract = get_abstract_list_dirty[0].split(' ©')[0]\n",
    "    except:\n",
    "        abstract = \"failed_to_scrap\"\n",
    "    \n",
    "    # Append to the list\n",
    "    list_year.append(year)\n",
    "    list_title.append(title)\n",
    "    list_conf_jour.append(conf_jour_name)\n",
    "    list_authors.append(authors)\n",
    "    list_keywords.append(keywords)\n",
    "    list_abstract.append(abstract)\n",
    "\n",
    "driver.close()"
   ]
  },
  {
   "cell_type": "code",
   "execution_count": 88,
   "id": "9aa29e3b",
   "metadata": {},
   "outputs": [],
   "source": [
    "# Concatenate list as new column\n",
    "scopus[\"Year\"], scopus[\"Title\"], scopus[\"Conf/Journal Name\"] = list_year, list_title, list_conf_jour\n",
    "scopus[\"Authors\"], scopus[\"Keywords\"], scopus[\"Abstract\"] = list_authors, list_keywords, list_abstract"
   ]
  },
  {
   "cell_type": "code",
   "execution_count": 90,
   "id": "da9d389f",
   "metadata": {},
   "outputs": [],
   "source": [
    "scopus.to_excel(\"PaperMetadata_Unclean_Scopus.xlsx\", index = False)"
   ]
  }
 ],
 "metadata": {
  "kernelspec": {
   "display_name": "Python 3 (ipykernel)",
   "language": "python",
   "name": "python3"
  },
  "language_info": {
   "codemirror_mode": {
    "name": "ipython",
    "version": 3
   },
   "file_extension": ".py",
   "mimetype": "text/x-python",
   "name": "python",
   "nbconvert_exporter": "python",
   "pygments_lexer": "ipython3",
   "version": "3.10.2"
  }
 },
 "nbformat": 4,
 "nbformat_minor": 5
}
