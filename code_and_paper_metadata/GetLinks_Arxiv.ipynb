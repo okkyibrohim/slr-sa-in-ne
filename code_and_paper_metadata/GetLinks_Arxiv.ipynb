{
 "cells": [
  {
   "cell_type": "code",
   "execution_count": 1,
   "id": "6724fc89",
   "metadata": {},
   "outputs": [],
   "source": [
    "import time\n",
    "import pandas as pd\n",
    "import undetected_chromedriver as uc\n",
    "from bs4 import BeautifulSoup\n",
    "import urllib3\n",
    "import requests"
   ]
  },
  {
   "cell_type": "code",
   "execution_count": 2,
   "id": "eb50e3b9",
   "metadata": {},
   "outputs": [],
   "source": [
    "# Call the dataset\n",
    "arxiv_links = pd.read_excel(\"./query-links/Arxiv_Query_Links.xlsx\")"
   ]
  },
  {
   "cell_type": "code",
   "execution_count": 4,
   "id": "bc876fce",
   "metadata": {},
   "outputs": [],
   "source": [
    "# Open the drive\n",
    "driver = uc.Chrome()"
   ]
  },
  {
   "cell_type": "code",
   "execution_count": null,
   "id": "82cedace",
   "metadata": {},
   "outputs": [],
   "source": [
    "# Get the paper links\n",
    "list_source = []\n",
    "list_querystring = []\n",
    "list_querylinks = []\n",
    "list_paperlinks = []\n",
    "for index in range(0,len(arxiv_links[\"Query Links\"])):\n",
    "  driver.get(arxiv_links[\"Query Links\"][index])\n",
    "  time.sleep(5)\n",
    "  try:\n",
    "    # Get links from the first page\n",
    "    hrefs = driver.find_elements_by_xpath(\"//*[@class='list-title is-inline-block']//*[@href]\")\n",
    "    for a in hrefs:\n",
    "        link = a.get_attribute('href')\n",
    "        if \"abs\" in link:\n",
    "            list_source.append(\"Arxiv\")\n",
    "            list_querystring.append(arxiv_links[\"Query\"][index])\n",
    "            list_querylinks.append(arxiv_links[\"Query Links\"][index])\n",
    "            list_paperlinks.append(link)\n",
    "\n",
    "    # Get links from the next page\n",
    "    while True:\n",
    "        try:\n",
    "            driver.find_element_by_class_name(\"pagination-next\").click()\n",
    "            time.sleep(5)\n",
    "            hrefs = driver.find_elements_by_xpath(\"//*[@class='list-title is-inline-block']//*[@href]\")\n",
    "            for a in hrefs:\n",
    "                link = a.get_attribute('href')\n",
    "                if \"abs\" in link:\n",
    "                    list_source.append(\"Arxiv\")\n",
    "                    list_querystring.append(arxiv_links[\"Query\"][index])\n",
    "                    list_querylinks.append(arxiv_links[\"Query Links\"][index])\n",
    "                    list_paperlinks.append(link)\n",
    "        except:\n",
    "            break\n",
    "  except:\n",
    "    list_source.append(\"Arxiv\")\n",
    "    list_querystring.append(arxiv_links[\"Query\"][index])\n",
    "    list_querylinks.append(arxiv_links[\"Query Links\"][index])\n",
    "    list_paperlinks.append(\"no_result\")"
   ]
  },
  {
   "cell_type": "code",
   "execution_count": 6,
   "id": "2f53ec29",
   "metadata": {},
   "outputs": [],
   "source": [
    "driver.quit()"
   ]
  },
  {
   "cell_type": "code",
   "execution_count": null,
   "id": "70fd6518",
   "metadata": {},
   "outputs": [],
   "source": [
    "# Save to xlsx\n",
    "arxiv_paperlinks = pd.DataFrame({'Source': list_source,'Query': list_querystring, 'Query Links': list_querylinks, 'Paper Links': list_paperlinks})\n",
    "arxiv_paperlinks.to_excel(\"./paper-links/PaperLinks_Arxiv_AllDuplicated.xlsx\", index = False)"
   ]
  },
  {
   "cell_type": "code",
   "execution_count": null,
   "id": "a7169dd0",
   "metadata": {},
   "outputs": [],
   "source": [
    "# Drop Duplicate\n",
    "arxiv_paperlinks_dd = arxiv_paperlinks.drop_duplicates(['Paper Links'], keep='first')\n",
    "arxiv_paperlinks_dd.to_excel(\"./paper-links/PaperLinks_Arxiv.xlsx\", index = False)"
   ]
  }
 ],
 "metadata": {
  "kernelspec": {
   "display_name": "Python 3 (ipykernel)",
   "language": "python",
   "name": "python3"
  },
  "language_info": {
   "codemirror_mode": {
    "name": "ipython",
    "version": 3
   },
   "file_extension": ".py",
   "mimetype": "text/x-python",
   "name": "python",
   "nbconvert_exporter": "python",
   "pygments_lexer": "ipython3",
   "version": "3.10.2"
  }
 },
 "nbformat": 4,
 "nbformat_minor": 5
}
