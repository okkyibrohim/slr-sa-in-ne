{
 "cells": [
  {
   "cell_type": "code",
   "execution_count": 1,
   "id": "6724fc89",
   "metadata": {},
   "outputs": [],
   "source": [
    "import time\n",
    "import pandas as pd\n",
    "import undetected_chromedriver as uc\n",
    "from bs4 import BeautifulSoup\n",
    "import urllib3\n",
    "import requests"
   ]
  },
  {
   "cell_type": "code",
   "execution_count": 4,
   "id": "bc876fce",
   "metadata": {},
   "outputs": [],
   "source": [
    "# Open the drive\n",
    "driver = uc.Chrome()"
   ]
  },
  {
   "cell_type": "code",
   "execution_count": 5,
   "id": "bb126b22",
   "metadata": {},
   "outputs": [],
   "source": [
    "query_url = 'https://ieeexplore.ieee.org/search/searchresult.jsp?action=search&matchBoolean=true&queryText=(((%22Abstract%22:%22Sentiment%20Analysis%22)%20AND%20(%22Abstract%22:%22Green%22%20OR%20%22Abstract%22:%22Nature%22%20OR%20%22Abstract%22:%22Environment%22%20OR%20%22Abstract%22:%22Chemical%22%20OR%20%22Abstract%22:%22Food%22%20OR%20%22Abstract%22:%22Plant%22%20OR%20%22Abstract%22:%22Organism%22%20OR%20%22Abstract%22:%22Climate%20Change%22%20OR%20%22Abstract%22:%22Sustainability%22%20OR%20%22Abstract%22:%22Sustainable%22%20OR%20%22Abstract%22:%22Carbon%22%20OR%20%22Abstract%22:%22Emission%22%20OR%20%22Abstract%22:%22Waste%22%20OR%20%22Abstract%22:%22Pollution%22%20OR%20%22Abstract%22:%22Global%20Warming%22)%20AND%20(%22Abstract%22:%22Corpora%22%20OR%20%22Abstract%22:%22Lexicon%22%20OR%20%22Abstract%22:%22Model%22%20OR%20%22Abstract%22:%22Algorithm%22%20OR%20%22Abstract%22:%22Classifier%22)))&highlight=true&returnType=SEARCH&matchPubs=true&refinements=ContentType:Conferences&refinements=ContentType:Journals&returnFacets=ALL&ranges=2012_2022_Year'"
   ]
  },
  {
   "cell_type": "code",
   "execution_count": 6,
   "id": "c1d37b2e",
   "metadata": {},
   "outputs": [],
   "source": [
    "driver.get(query_url)\n",
    "time.sleep(5)"
   ]
  },
  {
   "cell_type": "code",
   "execution_count": null,
   "id": "82cedace",
   "metadata": {},
   "outputs": [],
   "source": [
    "# Get all link for abstract query\n",
    "list_paperlinks = []\n",
    "try:\n",
    "  driver.find_element_by_css_selector(\"[aria-label='dismiss cookie message'\").click()\n",
    "  time.sleep(5)\n",
    "except:\n",
    "  pass\n",
    "\n",
    "# Get links from the first page\n",
    "links = []\n",
    "hrefs = driver.find_elements_by_xpath(\"//*[@class='List-results-items']//*[@href]\")\n",
    "for a in hrefs:\n",
    "    link = a.get_attribute('href')\n",
    "    if \"document\" in link:\n",
    "        list_paperlinks.append(link)\n",
    "\n",
    "# Get links from the next page    \n",
    "while True:\n",
    "    try:\n",
    "        driver.find_element_by_class_name(\"next-btn\").click()\n",
    "        time.sleep(5)\n",
    "        hrefs = driver.find_elements_by_xpath(\"//*[@class='List-results-items']//*[@href]\")\n",
    "        for a in hrefs:\n",
    "            link = a.get_attribute('href')\n",
    "            if \"document\" in link:\n",
    "                list_paperlinks.append(link)\n",
    "    except:\n",
    "        break"
   ]
  },
  {
   "cell_type": "code",
   "execution_count": 9,
   "id": "2f53ec29",
   "metadata": {},
   "outputs": [],
   "source": [
    "driver.quit()"
   ]
  },
  {
   "cell_type": "code",
   "execution_count": null,
   "id": "daf644ee",
   "metadata": {},
   "outputs": [],
   "source": [
    "# Wrap into a data frame and save to xlsx\n",
    "list_source = []\n",
    "list_querystring = []\n",
    "list_querylinks = []\n",
    "[list_source.append(\"IEEEXplore\") for i in list_paperlinks]\n",
    "[list_querystring.append(\"ALL\") for i in list_paperlinks]\n",
    "[list_querylinks.append(query_url) for i in list_paperlinks]\n",
    "ieee_paperlinks = pd.DataFrame({'Source': list_source,'Query': list_querystring, 'Query Links': list_querylinks, 'Paper Links': list_paperlinks})\n",
    "ieee_paperlinks.to_excel(\"./paper-links/PaperLinks_IEEEXplore_AllDuplicated.xlsx\", index = False)\n",
    "len(ieee_paperlinks)"
   ]
  },
  {
   "cell_type": "code",
   "execution_count": null,
   "id": "a7169dd0",
   "metadata": {},
   "outputs": [],
   "source": [
    "# Drop Duplicate\n",
    "ieee_paperlinks_dd = ieee_paperlinks.drop_duplicates(['Paper Links'], keep='first')\n",
    "ieee_paperlinks_dd = ieee_paperlinks_dd[ieee_paperlinks_dd[\"Paper Links\"].str.contains('citations')==False]\n",
    "ieee_paperlinks_dd.to_excel(\"./paper-links/PaperLinks_IEEEXplore.xlsx\", index = False)\n",
    "len(ieee_paperlinks_dd)"
   ]
  }
 ],
 "metadata": {
  "kernelspec": {
   "display_name": "Python 3 (ipykernel)",
   "language": "python",
   "name": "python3"
  },
  "language_info": {
   "codemirror_mode": {
    "name": "ipython",
    "version": 3
   },
   "file_extension": ".py",
   "mimetype": "text/x-python",
   "name": "python",
   "nbconvert_exporter": "python",
   "pygments_lexer": "ipython3",
   "version": "3.10.2"
  }
 },
 "nbformat": 4,
 "nbformat_minor": 5
}
