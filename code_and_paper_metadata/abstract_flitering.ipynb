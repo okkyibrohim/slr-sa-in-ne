{
 "cells": [
  {
   "cell_type": "code",
   "execution_count": 1,
   "id": "fc4eb08b",
   "metadata": {},
   "outputs": [],
   "source": [
    "import nltk\n",
    "import re\n",
    "from nltk.stem import WordNetLemmatizer \n",
    "import pandas as pd"
   ]
  },
  {
   "cell_type": "code",
   "execution_count": 2,
   "id": "40600387",
   "metadata": {},
   "outputs": [],
   "source": [
    "# define cleaning function including lemmatizer\n",
    "lemmatizer = WordNetLemmatizer()\n",
    "def cleaning(abs):\n",
    "    abs = re.sub(r'[^\\w\\s]', '', abs.lower()) # lower casing and remove punctuation\n",
    "    word_list = nltk.word_tokenize(abs)\n",
    "    abs_clean = ' '.join([lemmatizer.lemmatize(w) for w in word_list])\n",
    "    return abs_clean"
   ]
  },
  {
   "cell_type": "code",
   "execution_count": 3,
   "id": "dcee2190",
   "metadata": {},
   "outputs": [],
   "source": [
    "# lemmatize the Intervention part, just to make sure same with the lemmatized abstract\n",
    "intervention = [\"green\", \"nature\", \"environment\", \"chemical\", \"food\", \"plant\", \"organism\", \"climate change\", \"sustainability\", \"sustainable\", \"carbon\", \"emission\", \"waste\", \"pollution\", \"global warming\"]\n",
    "list_intervclean = []\n",
    "for interv in intervention:\n",
    "    cleanded_interv = cleaning(interv)\n",
    "    list_intervclean.append(cleanded_interv)"
   ]
  },
  {
   "cell_type": "code",
   "execution_count": 4,
   "id": "da445a47",
   "metadata": {},
   "outputs": [],
   "source": [
    "# ACL\n",
    "acl = pd.read_excel(\"./paper-metadata-preprocessed/PreprocessedPaperMetadata_ACL.xlsx\")\n",
    "acl_cleaned = acl[acl[\"Cleaned Abstract\"].str.contains('|'.join(list_intervclean))==True]\n",
    "acl_cleaned.to_excel(\"./paper-metadata-filtered/FilteredPaperMetadata_ACL.xlsx\", index = False)"
   ]
  },
  {
   "cell_type": "code",
   "execution_count": 5,
   "id": "34f575b6",
   "metadata": {},
   "outputs": [],
   "source": [
    "# ACM\n",
    "acm = pd.read_excel(\"./paper-metadata-preprocessed/PreprocessedPaperMetadata_ACM.xlsx\")\n",
    "acm_cleaned = acm[acm[\"Cleaned Abstract\"].str.contains('|'.join(list_intervclean))==True]\n",
    "acm_cleaned.to_excel(\"./paper-metadata-filtered/FilteredPaperMetadata_ACM.xlsx\", index = False)"
   ]
  },
  {
   "cell_type": "code",
   "execution_count": 6,
   "id": "bad6b80c",
   "metadata": {},
   "outputs": [],
   "source": [
    "# Arxiv\n",
    "arxiv = pd.read_excel(\"./paper-metadata-preprocessed/PreprocessedPaperMetadata_Arxiv.xlsx\")\n",
    "arxiv_cleaned = arxiv[arxiv[\"Cleaned Abstract\"].str.contains('|'.join(list_intervclean))==True]\n",
    "arxiv_cleaned.to_excel(\"./paper-metadata-filtered/FilteredPaperMetadata_Arxiv.xlsx\", index = False)"
   ]
  },
  {
   "cell_type": "code",
   "execution_count": 7,
   "id": "a226dfd2",
   "metadata": {},
   "outputs": [],
   "source": [
    "# IEEEXplore\n",
    "ieeexplore = pd.read_excel(\"./paper-metadata-preprocessed/PreprocessedPaperMetadata_IEEEXplore.xlsx\")\n",
    "ieeexplore_cleaned = ieeexplore[ieeexplore[\"Cleaned Abstract\"].str.contains('|'.join(list_intervclean))==True]\n",
    "ieeexplore_cleaned.to_excel(\"./paper-metadata-filtered/FilteredPaperMetadata_IEEEXplore.xlsx\", index = False)"
   ]
  },
  {
   "cell_type": "code",
   "execution_count": 8,
   "id": "87af0c99",
   "metadata": {},
   "outputs": [],
   "source": [
    "# MDPI\n",
    "mdpi = pd.read_excel(\"./paper-metadata-preprocessed/PreprocessedPaperMetadata_MDPI.xlsx\")\n",
    "mdpi_cleaned = mdpi[mdpi[\"Cleaned Abstract\"].str.contains('|'.join(list_intervclean))==True]\n",
    "mdpi_cleaned.to_excel(\"./paper-metadata-filtered/FilteredPaperMetadata_MDPI.xlsx\", index = False)"
   ]
  },
  {
   "cell_type": "code",
   "execution_count": 9,
   "id": "a3fe80e0",
   "metadata": {},
   "outputs": [],
   "source": [
    "# ScienceDirect\n",
    "sciencedirect = pd.read_excel(\"./paper-metadata-preprocessed/PreprocessedPaperMetadata_ScienceDirect.xlsx\")\n",
    "sciencedirect_cleaned = sciencedirect[sciencedirect[\"Cleaned Abstract\"].str.contains('|'.join(list_intervclean))==True]\n",
    "sciencedirect_cleaned.to_excel(\"./paper-metadata-filtered/FilteredPaperMetadata_ScienceDirect.xlsx\", index = False)"
   ]
  },
  {
   "cell_type": "code",
   "execution_count": 10,
   "id": "b698b3e3",
   "metadata": {},
   "outputs": [],
   "source": [
    "# SpringerOpen\n",
    "springeropen = pd.read_excel(\"./paper-metadata-preprocessed/PreprocessedPaperMetadata_SpringerOpen.xlsx\")\n",
    "springeropen_cleaned = springeropen[springeropen[\"Cleaned Abstract\"].str.contains('|'.join(list_intervclean))==True]\n",
    "springeropen_cleaned.to_excel(\"./paper-metadata-filtered/FilteredPaperMetadata_SpringerOpen.xlsx\", index = False)"
   ]
  },
  {
   "cell_type": "code",
   "execution_count": 11,
   "id": "5d8cde97",
   "metadata": {},
   "outputs": [],
   "source": [
    "# Scopus\n",
    "scopus = pd.read_excel(\"./paper-metadata-preprocessed/PreprocessedPaperMetadata_Scopus.xlsx\")\n",
    "scopus_cleaned = scopus[scopus[\"Cleaned Abstract\"].str.contains('|'.join(list_intervclean))==True]\n",
    "scopus_cleaned.to_excel(\"./paper-metadata-filtered/FilteredPaperMetadata_Scopus.xlsx\", index = False)"
   ]
  }
 ],
 "metadata": {
  "kernelspec": {
   "display_name": "Python 3 (ipykernel)",
   "language": "python",
   "name": "python3"
  },
  "language_info": {
   "codemirror_mode": {
    "name": "ipython",
    "version": 3
   },
   "file_extension": ".py",
   "mimetype": "text/x-python",
   "name": "python",
   "nbconvert_exporter": "python",
   "pygments_lexer": "ipython3",
   "version": "3.10.2"
  }
 },
 "nbformat": 4,
 "nbformat_minor": 5
}
