{
 "cells": [
  {
   "cell_type": "code",
   "execution_count": 1,
   "id": "7b0c9f55",
   "metadata": {},
   "outputs": [],
   "source": [
    "import pandas as pd\n",
    "import metadata_parser as mp\n",
    "import requests\n",
    "from bs4 import BeautifulSoup as bs\n",
    "import re\n",
    "import undetected_chromedriver as uc\n",
    "import time"
   ]
  },
  {
   "cell_type": "markdown",
   "id": "8c7e8b03",
   "metadata": {},
   "source": [
    "# Login Bibliopass"
   ]
  },
  {
   "attachments": {},
   "cell_type": "markdown",
   "id": "1cb05836",
   "metadata": {},
   "source": [
    "Bibliopass is a remote publisher library owned by the University of Turin. Each remote publisher library may have a different login interface/scheme so you need to modify this login code. If you want to use a Scopus subscription account, you also need to modify this login code. If you do not have access to log in to Scopus, you cannot use this code."
   ]
  },
  {
   "cell_type": "code",
   "execution_count": 3,
   "id": "55055175",
   "metadata": {},
   "outputs": [],
   "source": [
    "scopus_url = \"https://www-scopus-com.bibliopass.unito.it/\""
   ]
  },
  {
   "cell_type": "code",
   "execution_count": 4,
   "id": "623cca9d",
   "metadata": {},
   "outputs": [],
   "source": [
    "driver = uc.Chrome()"
   ]
  },
  {
   "cell_type": "code",
   "execution_count": 5,
   "id": "eadd7cb4",
   "metadata": {},
   "outputs": [],
   "source": [
    "driver.get(scopus_url)\n",
    "time.sleep(5)"
   ]
  },
  {
   "cell_type": "code",
   "execution_count": null,
   "id": "1ace61ff",
   "metadata": {},
   "outputs": [],
   "source": [
    "try:\n",
    "    username = driver.find_element_by_id(\"username\")\n",
    "    password = driver.find_element_by_id(\"password\")\n",
    "    username.send_keys(\"your_username\")\n",
    "    password.send_keys(\"your_password\")\n",
    "    driver.find_element_by_name(\"_eventId_proceed\").click()\n",
    "except:\n",
    "    pass"
   ]
  },
  {
   "cell_type": "code",
   "execution_count": 13,
   "id": "10092919",
   "metadata": {},
   "outputs": [],
   "source": [
    "search_url = 'https://www-scopus-com.bibliopass.unito.it/results/results.uri?sort=plf-f&src=s&nlo=&nlr=&nls=&sid=45730a8677d84cbd18994d616df20e4e&sot=a&sdt=cl&cluster=scopubyr%2c%222022%22%2ct%2c%222021%22%2ct%2c%222020%22%2ct%2c%222019%22%2ct%2c%222018%22%2ct%2c%222017%22%2ct%2c%222016%22%2ct%2c%222015%22%2ct%2c%222014%22%2ct%2c%222013%22%2ct%2c%222012%22%2ct&sl=319&s=ABS%28%28%22Sentiment+Analysis%22%29+AND+%28%22Green%22+OR+%22Nature%22+OR+%22Environment%22+OR+%22Chemical%22+OR+%22Food%22+OR+%22Plant%22+OR+%22Organism%22+OR+%22Climate+Change%22+OR+%22Sustainability%22+OR+%22Sustainable%22+OR+%22Carbon%22+OR+%22Emission%22+OR+%22Waste%22+OR+%22Pollution%22+OR+%22Global+Warming%22%29+AND+%28%22Corpora%22+OR+%22Lexicon%22+OR+%22Model%22+OR+%22Algorithm%22+OR+%22Classifier%22%29%29&origin=resultslist&zone=leftSideBar&editSaveSearch=&txGid=fb75908e5bd39f76b5906f39158124fe'"
   ]
  },
  {
   "cell_type": "code",
   "execution_count": 14,
   "id": "0ea346d2",
   "metadata": {},
   "outputs": [],
   "source": [
    "driver.get(search_url)\n",
    "time.sleep(5)"
   ]
  },
  {
   "cell_type": "markdown",
   "id": "8a737aa7",
   "metadata": {},
   "source": [
    "# Get Links"
   ]
  },
  {
   "cell_type": "code",
   "execution_count": null,
   "id": "97515274",
   "metadata": {},
   "outputs": [],
   "source": [
    "# Get links from first pages\n",
    "links = []\n",
    "hrefs = driver.find_elements_by_xpath(\"//*[@class='searchArea']//*[@href]\")\n",
    "for a in hrefs:\n",
    "    link = a.get_attribute('href')\n",
    "    links.append(link)\n",
    "\n",
    "# Get links from next pages\n",
    "while True:\n",
    "  try:\n",
    "    driver.find_element_by_css_selector(\"[title='Next page'\").click()\n",
    "    time.sleep(5)\n",
    "    hrefs = driver.find_elements_by_xpath(\"//*[@class='searchArea']//*[@href]\")\n",
    "    for a in hrefs:\n",
    "        link = a.get_attribute('href')\n",
    "        links.append(link)\n",
    "  except:\n",
    "    break"
   ]
  },
  {
   "cell_type": "markdown",
   "id": "189055d5",
   "metadata": {},
   "source": [
    "# Wrap Into Dataframe and Filtering Process"
   ]
  },
  {
   "cell_type": "code",
   "execution_count": null,
   "id": "e0d36998",
   "metadata": {},
   "outputs": [],
   "source": [
    "# List filling\n",
    "list_source = []\n",
    "list_query = []\n",
    "list_querylinks = []\n",
    "[list_source.append(\"Scopus\") for i in links]\n",
    "[list_query.append(\"ALL\") for i in links]\n",
    "[list_querylinks.append(search_url) for i in links]"
   ]
  },
  {
   "cell_type": "code",
   "execution_count": 35,
   "id": "b3d0ebb0",
   "metadata": {},
   "outputs": [],
   "source": [
    "# Wrap into a dataframe\n",
    "scopus = pd.DataFrame({'Source': list_source, 'Query': list_query, 'Query Links': list_querylinks, 'Paper Links': links})"
   ]
  },
  {
   "cell_type": "code",
   "execution_count": 37,
   "id": "5885618a",
   "metadata": {},
   "outputs": [],
   "source": [
    "# Drop links those are not a paper URL\n",
    "scopus_links = scopus[scopus[\"Paper Links\"].str.contains('record')==True]"
   ]
  },
  {
   "cell_type": "code",
   "execution_count": 39,
   "id": "2623de4d",
   "metadata": {},
   "outputs": [],
   "source": [
    "# Save to Excel\n",
    "scopus_links.to_excel(\"PaperLinks_Scopus.xlsx\", index = False)"
   ]
  },
  {
   "cell_type": "code",
   "execution_count": 40,
   "id": "7323532e",
   "metadata": {},
   "outputs": [],
   "source": [
    "driver.close()"
   ]
  }
 ],
 "metadata": {
  "kernelspec": {
   "display_name": "Python 3 (ipykernel)",
   "language": "python",
   "name": "python3"
  },
  "language_info": {
   "codemirror_mode": {
    "name": "ipython",
    "version": 3
   },
   "file_extension": ".py",
   "mimetype": "text/x-python",
   "name": "python",
   "nbconvert_exporter": "python",
   "pygments_lexer": "ipython3",
   "version": "3.10.2"
  }
 },
 "nbformat": 4,
 "nbformat_minor": 5
}
