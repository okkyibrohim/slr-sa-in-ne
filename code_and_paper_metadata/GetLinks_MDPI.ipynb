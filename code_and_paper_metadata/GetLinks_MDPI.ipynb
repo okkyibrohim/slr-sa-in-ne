{
 "cells": [
  {
   "cell_type": "code",
   "execution_count": 1,
   "id": "6724fc89",
   "metadata": {},
   "outputs": [],
   "source": [
    "import time\n",
    "import pandas as pd\n",
    "import undetected_chromedriver as uc\n",
    "from bs4 import BeautifulSoup\n",
    "import urllib3\n",
    "import requests"
   ]
  },
  {
   "cell_type": "code",
   "execution_count": 2,
   "id": "eb50e3b9",
   "metadata": {},
   "outputs": [],
   "source": [
    "# Call the dataset\n",
    "mdpi_links = pd.read_excel(\"./query-links/MDPI_Query_Links.xlsx\")"
   ]
  },
  {
   "cell_type": "code",
   "execution_count": 4,
   "id": "bc876fce",
   "metadata": {},
   "outputs": [],
   "source": [
    "# Open the drive\n",
    "driver = uc.Chrome()"
   ]
  },
  {
   "cell_type": "code",
   "execution_count": null,
   "id": "3f58369f",
   "metadata": {},
   "outputs": [],
   "source": [
    "# Get the paper links\n",
    "list_source = []\n",
    "list_querystring = []\n",
    "list_querylinks = []\n",
    "list_paperlinks = []\n",
    "for index in range(0,len(mdpi_links[\"Query Links\"])):\n",
    "  driver.get(mdpi_links[\"Query Links\"][index])\n",
    "  time.sleep(5)\n",
    "  try:\n",
    "      driver.find_element_by_link_text('Accept').send_keys('\\n')\n",
    "      time.sleep(5)\n",
    "  except:\n",
    "      pass\n",
    "  try:\n",
    "    # Get links from the first page\n",
    "    page = requests.get(mdpi_links[\"Query Links\"][index]) # URL given by the query generator\n",
    "    soup = BeautifulSoup(page.text,'html.parser')\n",
    "    info = soup.select(\"[class~=title-link]\")\n",
    "    [list_source.append(\"MDPI\") for i in info]\n",
    "    [list_querystring.append(mdpi_links[\"Query\"][index]) for i in info]\n",
    "    [list_querylinks.append(mdpi_links[\"Query Links from Abstract\"][index]) for i in info]\n",
    "    [list_paperlinks.append(\"https://www.mdpi.com\"+i.get('href')) for i in info]\n",
    "\n",
    "    # Get links from the next page\n",
    "    while True:\n",
    "      try:\n",
    "        driver.find_element_by_link_text('chevron_right').send_keys('\\n')\n",
    "        time.sleep(5)\n",
    "        next_url = driver.current_url\n",
    "        page = requests.get(next_url) # URL given by the query generator\n",
    "        soup = BeautifulSoup(page.text,'html.parser')\n",
    "        info = soup.select(\"[class~=title-link]\")\n",
    "        [list_source.append(\"MDPI\") for i in info]\n",
    "        [list_querystring.append(mdpi_links[\"Query\"][index]) for i in info]\n",
    "        [list_querylinks.append(mdpi_links[\"Query Links\"][index]) for i in info]\n",
    "        [list_paperlinks.append(\"https://www.mdpi.com\"+i.get('href')) for i in info]\n",
    "      except:\n",
    "        break\n",
    "  except:\n",
    "    list_source.append(\"MDPI\")\n",
    "    list_querystring.append(mdpi_links[\"Query\"][index])\n",
    "    list_querylinks.append(mdpi_links[\"Query Links\"][index])\n",
    "    list_paperlinks.append(\"no_result\")"
   ]
  },
  {
   "cell_type": "code",
   "execution_count": null,
   "id": "70fd6518",
   "metadata": {},
   "outputs": [],
   "source": [
    "# Save to xlsx\n",
    "mdpi_paperlinks = pd.DataFrame({'Source': list_source,'Query': list_querystring, 'Query Links': list_querylinks, 'Paper Links': list_paperlinks})\n",
    "mdpi_paperlinks.to_excel(\"./paper-links/PaperLinks_MDPI_AllDuplicated.xlsx\", index = False)\n",
    "len(mdpi_paperlinks)"
   ]
  },
  {
   "cell_type": "code",
   "execution_count": null,
   "id": "a7169dd0",
   "metadata": {},
   "outputs": [],
   "source": [
    "# Drop Duplicate\n",
    "mdpi_paperlinks_dd = mdpi_paperlinks.drop_duplicates(['Paper Links'], keep='first')\n",
    "mdpi_paperlinks_dd.to_excel(\"./paper-links/PaperLinks_MDPI.xlsx\", index = False)\n",
    "len(mdpi_paperlinks_dd)"
   ]
  }
 ],
 "metadata": {
  "kernelspec": {
   "display_name": "Python 3 (ipykernel)",
   "language": "python",
   "name": "python3"
  },
  "language_info": {
   "codemirror_mode": {
    "name": "ipython",
    "version": 3
   },
   "file_extension": ".py",
   "mimetype": "text/x-python",
   "name": "python",
   "nbconvert_exporter": "python",
   "pygments_lexer": "ipython3",
   "version": "3.10.2"
  }
 },
 "nbformat": 4,
 "nbformat_minor": 5
}
