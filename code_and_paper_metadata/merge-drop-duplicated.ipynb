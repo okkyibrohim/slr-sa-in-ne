{
 "cells": [
  {
   "cell_type": "code",
   "execution_count": 1,
   "id": "df568eaa",
   "metadata": {},
   "outputs": [],
   "source": [
    "import pandas as pd"
   ]
  },
  {
   "cell_type": "code",
   "execution_count": null,
   "id": "2a8633d8",
   "metadata": {},
   "outputs": [],
   "source": [
    "# Call all dataset\n",
    "merged_data = pd.read_excel(\"./paper-metadata-filtered/FilteredPaperMetadata_ACM.xlsx\")\n",
    "list_source = [\"IEEEXplore\",\"MDPI\",\"ScienceDirect\",\"SpringerOpen\",\"ACL\",\"Scopus\",\"Arxiv\"]\n",
    "for i in list_source:\n",
    "    path = \"./paper-metadata-filtered/FilteredPaperMetadata_\"+i+\".xlsx\"\n",
    "    source = pd.read_excel(path)\n",
    "    merged_data = merged_data.append(source)"
   ]
  },
  {
   "cell_type": "code",
   "execution_count": null,
   "id": "7f182394",
   "metadata": {},
   "outputs": [],
   "source": [
    "merged_data.to_excel(\"MergedPaperMetadata_AllDuplicated.xlsx\",index=False)"
   ]
  },
  {
   "cell_type": "code",
   "execution_count": null,
   "id": "2b4ef647",
   "metadata": {},
   "outputs": [],
   "source": [
    "merged_data_dd = merged_data.drop_duplicates(['Title'], keep='first')\n",
    "merged_data_dd.to_excel(\"MergedPaperMetadata_DropDuplicated.xlsx\", index = False)"
   ]
  }
 ],
 "metadata": {
  "kernelspec": {
   "display_name": "Python 3 (ipykernel)",
   "language": "python",
   "name": "python3"
  },
  "language_info": {
   "codemirror_mode": {
    "name": "ipython",
    "version": 3
   },
   "file_extension": ".py",
   "mimetype": "text/x-python",
   "name": "python",
   "nbconvert_exporter": "python",
   "pygments_lexer": "ipython3",
   "version": "3.10.2"
  }
 },
 "nbformat": 4,
 "nbformat_minor": 5
}
