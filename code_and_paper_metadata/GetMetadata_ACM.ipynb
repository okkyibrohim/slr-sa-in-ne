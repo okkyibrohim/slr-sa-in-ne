{
 "cells": [
  {
   "cell_type": "code",
   "execution_count": 1,
   "id": "4e8002b8",
   "metadata": {},
   "outputs": [],
   "source": [
    "import pandas as pd\n",
    "import metadata_parser as mp\n",
    "import requests\n",
    "from bs4 import BeautifulSoup as bs\n",
    "import re"
   ]
  },
  {
   "cell_type": "code",
   "execution_count": 2,
   "id": "87bf4c69",
   "metadata": {},
   "outputs": [],
   "source": [
    "# Call dataset\n",
    "acm = pd.read_excel(\"./paper-links/PaperLinks_ACM.xlsx\")"
   ]
  },
  {
   "cell_type": "code",
   "execution_count": null,
   "id": "930b4145",
   "metadata": {},
   "outputs": [],
   "source": [
    "# Get the paper metadata\n",
    "list_year, list_title, list_conf_jour, list_authors, list_keywords, list_abstract = [], [], [], [], [], []\n",
    "index = 1\n",
    "for paper_url in acm[\"Paper Links\"]:\n",
    "    # Get page\n",
    "    page_bs = requests.get(paper_url)\n",
    "    parsed_bs = bs(page_bs.text,'html.parser')    \n",
    "    # Get Year\n",
    "    year = parsed_bs.find(class_=\"epub-section__date\")\n",
    "    year = re.search('<span class=\"epub-section__date\">(.*)</span>', str(year)).group(1).split(\" \", 1)[1].strip()\n",
    "    # Get Title\n",
    "    title = re.search('<title>(.*)</title>', str(parsed_bs)).group(1).strip()\n",
    "    # Get Conf/Journal Name\n",
    "    conf_jour_name = parsed_bs.find(class_=\"epub-section__title\")\n",
    "    conf_jour_name = re.search('<span class=\"epub-section__title\">(.*)</span>', str(conf_jour_name)).group(1).strip()\n",
    "    # Get Authors\n",
    "    authors_list = parsed_bs.find_all(class_=\"author-name\")\n",
    "    for i in range(0,len(authors_list)):\n",
    "        if i == 0:\n",
    "            authors = re.search('title=\"(.*)\"><span class=\"loa__author-info\">', str(authors_list[i])).group(1).strip()\n",
    "        else:\n",
    "            authors = authors+\", \"+re.search('title=\"(.*)\"><span class=\"loa__author-info\">', str(authors_list[i])).group(1).strip()\n",
    "        if i == len(authors_list)-1:\n",
    "            authors = authors.strip()\n",
    "            break\n",
    "    # Get Keywords\n",
    "    keywords = \"no_keyword\"\n",
    "    # Get Abstract\n",
    "    abstract = parsed_bs.find(class_=\"abstractSection abstractInFull\") # cleaning needed\n",
    "    abstract = re.search('<p>(.*)</p>', str(abstract)).group(1).strip()\n",
    "    abstract = re.sub('<.*?>', '', abstract)\n",
    "    # Append to the list\n",
    "    list_year.append(year)\n",
    "    list_title.append(title)\n",
    "    list_conf_jour.append(conf_jour_name)\n",
    "    list_authors.append(authors)\n",
    "    list_keywords.append(keywords)\n",
    "    list_abstract.append(abstract)\n",
    "    print(index)\n",
    "    index += 1"
   ]
  },
  {
   "cell_type": "code",
   "execution_count": 4,
   "id": "190db881",
   "metadata": {},
   "outputs": [],
   "source": [
    "# Concatenate list as new column\n",
    "acm[\"Year\"], acm[\"Title\"], acm[\"Conf/Journal Name\"] = list_year, list_title, list_conf_jour\n",
    "acm[\"Authors\"], acm[\"Keywords\"], acm[\"Abstract\"] = list_authors, list_keywords, list_abstract"
   ]
  },
  {
   "cell_type": "code",
   "execution_count": 5,
   "id": "0ff3e022",
   "metadata": {},
   "outputs": [],
   "source": [
    "acm.to_excel(\"./paper-metadata/PaperMetadata_Unclean_ACM.xlsx\", index = False)"
   ]
  }
 ],
 "metadata": {
  "kernelspec": {
   "display_name": "Python 3 (ipykernel)",
   "language": "python",
   "name": "python3"
  },
  "language_info": {
   "codemirror_mode": {
    "name": "ipython",
    "version": 3
   },
   "file_extension": ".py",
   "mimetype": "text/x-python",
   "name": "python",
   "nbconvert_exporter": "python",
   "pygments_lexer": "ipython3",
   "version": "3.10.2"
  }
 },
 "nbformat": 4,
 "nbformat_minor": 5
}
