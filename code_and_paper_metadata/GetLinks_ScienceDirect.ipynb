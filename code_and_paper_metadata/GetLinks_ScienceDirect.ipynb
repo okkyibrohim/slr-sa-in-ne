{
 "cells": [
  {
   "cell_type": "code",
   "execution_count": 1,
   "id": "7b0c9f55",
   "metadata": {},
   "outputs": [],
   "source": [
    "import pandas as pd\n",
    "import metadata_parser as mp\n",
    "import requests\n",
    "from bs4 import BeautifulSoup as bs\n",
    "import re\n",
    "import undetected_chromedriver as uc\n",
    "import time"
   ]
  },
  {
   "cell_type": "markdown",
   "id": "8c7e8b03",
   "metadata": {},
   "source": [
    "# Login Bibliopass"
   ]
  },
  {
   "attachments": {},
   "cell_type": "markdown",
   "id": "dbe0572c",
   "metadata": {},
   "source": [
    "Bibliopass is a remote publisher library owned by the University of Turin. Each remote publisher library may have a different login interface/scheme so you need to modify this login code. If you want to use a ScienceDirect subscription account, you also need to modify this login code. If you do not have access to log in to ScienceDirect, you cannot use this code (when we are not logged in, we may able to use this code but ScienceDirect usually only gives us a few pages of the search result so that the search result is not complete)."
   ]
  },
  {
   "cell_type": "code",
   "execution_count": 2,
   "id": "55055175",
   "metadata": {},
   "outputs": [],
   "source": [
    "sciencedirect_url = \"https://www-sciencedirect-com.bibliopass.unito.it/\""
   ]
  },
  {
   "cell_type": "code",
   "execution_count": 3,
   "id": "623cca9d",
   "metadata": {},
   "outputs": [],
   "source": [
    "driver = uc.Chrome()"
   ]
  },
  {
   "cell_type": "code",
   "execution_count": 4,
   "id": "eadd7cb4",
   "metadata": {},
   "outputs": [],
   "source": [
    "driver.get(sciencedirect_url)\n",
    "time.sleep(5)"
   ]
  },
  {
   "cell_type": "code",
   "execution_count": null,
   "id": "1ace61ff",
   "metadata": {},
   "outputs": [],
   "source": [
    "try:\n",
    "    username = driver.find_element_by_id(\"username\")\n",
    "    password = driver.find_element_by_id(\"password\")\n",
    "    username.send_keys(\"your_username\")\n",
    "    password.send_keys(\"your_password\")\n",
    "    driver.find_element_by_name(\"_eventId_proceed\").click()\n",
    "except:\n",
    "    pass"
   ]
  },
  {
   "cell_type": "markdown",
   "id": "cd2bb11e",
   "metadata": {},
   "source": [
    "# Call The Query Links Dataset"
   ]
  },
  {
   "cell_type": "code",
   "execution_count": 6,
   "id": "10092919",
   "metadata": {},
   "outputs": [],
   "source": [
    "sciencedirect_links = pd.read_excel(\"./query-links/ScienceDirect_QueryBibliopass_Links.xlsx\")"
   ]
  },
  {
   "cell_type": "markdown",
   "id": "8a737aa7",
   "metadata": {},
   "source": [
    "# Get Links"
   ]
  },
  {
   "cell_type": "code",
   "execution_count": null,
   "id": "97515274",
   "metadata": {},
   "outputs": [],
   "source": [
    "# Get the paper links\n",
    "list_source = []\n",
    "list_querystring = []\n",
    "list_querylinks = []\n",
    "list_paperlinks = []\n",
    "for index in range(0,len(sciencedirect_links[\"Query Links from All Attribute\"])):\n",
    "    # Get links from first pages\n",
    "    driver.get(sciencedirect_links[\"Query Links from All Attribute\"][index])\n",
    "    time.sleep(5)\n",
    "    hrefs = driver.find_elements_by_xpath(\"//*[@class='result-item-content']//*[@href]\")\n",
    "    for a in hrefs:\n",
    "        link = a.get_attribute('href')\n",
    "        if not \"journal\" in link:\n",
    "            if not \"pdf\" in link:\n",
    "                list_source.append(\"ScienceDirect\")\n",
    "                list_querystring.append(sciencedirect_links[\"Query\"][index])\n",
    "                list_querylinks.append(sciencedirect_links[\"Query Links from All Attribute\"][index])\n",
    "                list_paperlinks.append(link)\n",
    "\n",
    "    # Get links from next pages\n",
    "    while True:\n",
    "      try:\n",
    "        driver.find_element_by_link_text('next').send_keys('\\n')\n",
    "        time.sleep(5)\n",
    "        hrefs = driver.find_elements_by_xpath(\"//*[@class='result-item-content']//*[@href]\")\n",
    "        for a in hrefs:\n",
    "            link = a.get_attribute('href')\n",
    "            if not \"journal\" in link:\n",
    "                if not \"pdf\" in link:\n",
    "                    list_source.append(\"ScienceDirect\")\n",
    "                    list_querystring.append(sciencedirect_links[\"Query\"][index])\n",
    "                    list_querylinks.append(sciencedirect_links[\"Query Links from All Attribute\"][index])\n",
    "                    list_paperlinks.append(link)\n",
    "      except:\n",
    "        break\n",
    "driver.quit()"
   ]
  },
  {
   "cell_type": "code",
   "execution_count": null,
   "id": "b5bda9f4",
   "metadata": {},
   "outputs": [],
   "source": [
    "# Save to xlsx\n",
    "sciencedirect_paperlinks = pd.DataFrame({'Source': list_source,'Query': list_querystring, 'Query Links': list_querylinks, 'Paper Links': list_paperlinks})\n",
    "sciencedirect_paperlinks.to_excel(\"./paper-links/PaperLinks_ScienceDirect_AllDuplicated.xlsx\", index = False)\n",
    "len(sciencedirect_paperlinks)"
   ]
  },
  {
   "cell_type": "code",
   "execution_count": null,
   "id": "dcf148fb",
   "metadata": {},
   "outputs": [],
   "source": [
    "# Drop Duplicate\n",
    "sciencedirect_paperlinks_dd = sciencedirect_paperlinks.drop_duplicates(['Paper Links'], keep='first')\n",
    "sciencedirect_paperlinks_dd.to_excel(\"./paper-links/PaperLinks_ScienceDirect.xlsx\", index = False)\n",
    "len(sciencedirect_paperlinks_dd)"
   ]
  }
 ],
 "metadata": {
  "kernelspec": {
   "display_name": "Python 3 (ipykernel)",
   "language": "python",
   "name": "python3"
  },
  "language_info": {
   "codemirror_mode": {
    "name": "ipython",
    "version": 3
   },
   "file_extension": ".py",
   "mimetype": "text/x-python",
   "name": "python",
   "nbconvert_exporter": "python",
   "pygments_lexer": "ipython3",
   "version": "3.10.2"
  }
 },
 "nbformat": 4,
 "nbformat_minor": 5
}
