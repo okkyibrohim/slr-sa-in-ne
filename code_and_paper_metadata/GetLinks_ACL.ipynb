{
 "cells": [
  {
   "cell_type": "code",
   "execution_count": 1,
   "metadata": {},
   "outputs": [],
   "source": [
    "import time\n",
    "import pandas as pd\n",
    "import undetected_chromedriver as uc"
   ]
  },
  {
   "cell_type": "code",
   "execution_count": 2,
   "metadata": {},
   "outputs": [],
   "source": [
    "# Call the dataset\n",
    "acl = pd.read_excel(\"./query-links/ACL_Query_Links.xlsx\")"
   ]
  },
  {
   "cell_type": "code",
   "execution_count": null,
   "metadata": {},
   "outputs": [],
   "source": [
    "# Get the paper links\n",
    "list_source = []\n",
    "list_querystring = []\n",
    "list_querylinks = []\n",
    "list_paperlinks = []\n",
    "for index in range(0,len(acl[\"Query Links from All Attribute\"])):\n",
    "    driver = uc.Chrome()\n",
    "    time.sleep(5)\n",
    "    driver.get(acl[\"Query Links from All Attribute\"][index])\n",
    "    time.sleep(5)\n",
    "    try:\n",
    "        # Get links from the first page\n",
    "        hrefs = driver.find_elements_by_xpath(\"//*[@class='gs-title']//*[@href]\")\n",
    "        for a in hrefs:\n",
    "            link = a.get_attribute('href')\n",
    "            list_source.append(\"ACL\")\n",
    "            list_querystring.append(acl[\"Query\"][index])\n",
    "            list_querylinks.append(acl[\"Query Links from All Attribute\"][index])\n",
    "            list_paperlinks.append(link)\n",
    "\n",
    "        # Get links from the next page\n",
    "        for i in range(2,11): # The maximum number of pages we get from ACL search result are 10\n",
    "            try:\n",
    "              page_number = \"[aria-label='Page \"+str(i)+\"'\"\n",
    "              driver.find_element_by_css_selector(page_number).click()\n",
    "              time.sleep(5)\n",
    "              hrefs = driver.find_elements_by_xpath(\"//*[@class='gs-title']//*[@href]\")\n",
    "              for a in hrefs:\n",
    "                link = a.get_attribute('href')\n",
    "                list_source.append(\"ACL\")\n",
    "                list_querystring.append(acl[\"Query\"][index])\n",
    "                list_querylinks.append(acl[\"Query Links from All Attribute\"][index])\n",
    "                list_paperlinks.append(link)\n",
    "            except:\n",
    "              break\n",
    "    except:\n",
    "        list_source.append(\"ACL\")\n",
    "        list_querystring.append(acl[\"Query\"][index])\n",
    "        list_querylinks.append(acl[\"Query Links from All Attribute\"][index])\n",
    "        list_paperlinks.append(\"no_result\")\n",
    "    driver.quit()"
   ]
  },
  {
   "cell_type": "code",
   "execution_count": 82,
   "metadata": {},
   "outputs": [],
   "source": [
    "# Save to xlsx\n",
    "acl_paperlinks = pd.DataFrame({'Source': list_source,'Query': list_querystring, 'Query Links': list_querylinks, 'Paper Links': list_paperlinks})\n",
    "acl_paperlinks.to_excel(\"./paper-links/PaperLinks_ACL_AllDuplicated.xlsx\", index = False)"
   ]
  },
  {
   "cell_type": "code",
   "execution_count": null,
   "metadata": {},
   "outputs": [],
   "source": [
    "# Drop Duplicate\n",
    "acl_dd = acl_paperlinks.drop_duplicates(['Paper Links'], keep='first')\n",
    "acl_dd.to_excel(\"./paper-links/PaperLinks_ACL.xlsx\", index = False)"
   ]
  }
 ],
 "metadata": {
  "kernelspec": {
   "display_name": "Python 3 (ipykernel)",
   "language": "python",
   "name": "python3"
  },
  "language_info": {
   "codemirror_mode": {
    "name": "ipython",
    "version": 3
   },
   "file_extension": ".py",
   "mimetype": "text/x-python",
   "name": "python",
   "nbconvert_exporter": "python",
   "pygments_lexer": "ipython3",
   "version": "3.10.2"
  }
 },
 "nbformat": 4,
 "nbformat_minor": 2
}
