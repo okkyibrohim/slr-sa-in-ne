{
 "cells": [
  {
   "cell_type": "code",
   "execution_count": 1,
   "id": "d0d0febb",
   "metadata": {},
   "outputs": [],
   "source": [
    "import requests\n",
    "import fitz\n",
    "import io\n",
    "import re\n",
    "from bs4 import BeautifulSoup as bs\n",
    "import requests\n",
    "import metadata_parser as mp\n",
    "import pandas as pd"
   ]
  },
  {
   "cell_type": "code",
   "execution_count": 2,
   "id": "dffb66d4",
   "metadata": {},
   "outputs": [],
   "source": [
    "acl = pd.read_excel(\"./paper-links/PaperLinks_ACL.xlsx\")"
   ]
  },
  {
   "cell_type": "code",
   "execution_count": null,
   "id": "916dafc4",
   "metadata": {},
   "outputs": [],
   "source": [
    "# Get the paper metadata\n",
    "list_year, list_title, list_conf_jour, list_authors, list_keywords, list_abstract = [], [], [], [], [], []\n",
    "index = 1\n",
    "for paper_url in acl[\"Paper Links\"]:\n",
    "  paper_url = re.sub(\".pdf\",\"\",paper_url)\n",
    "  try:\n",
    "    # Get page\n",
    "    page = mp.MetadataParser(paper_url)\n",
    "    page_bs = requests.get(paper_url)\n",
    "    parsed_bs = bs(page_bs.text,'html.parser')   \n",
    "    try:\n",
    "      # Get Year\n",
    "      year = (page.get_metadatas('citation_publication_date'))\n",
    "      year = year[0].split(\"/\")[0]\n",
    "    except:\n",
    "      year = \"failed_to_scrap\"   \n",
    "    try:\n",
    "      # Get Title\n",
    "      title = page.get_metadatas('citation_title')\n",
    "      title = title[0]\n",
    "    except:\n",
    "      title = \"failed_to_scrap\"  \n",
    "    try:\n",
    "      # Get Conf/Journal Name\n",
    "      conf_jour_name = (page.get_metadatas('citation_conference_title'))\n",
    "      conf_jour_name = conf_jour_name[0]\n",
    "    except:\n",
    "      conf_jour_name = \"failed_to_scrap\"   \n",
    "    try:\n",
    "      # Get Authors\n",
    "      authors = (page.get_metadatas('citation_author'))\n",
    "      authors = \", \".join(authors)\n",
    "    except:\n",
    "      authors = \"failed_to_scrap\"\n",
    "    # Assign Keywords (ACL does not provide keywords)\n",
    "    keywords = \"no_keywords\"\n",
    "    try:\n",
    "      # Get Abstract\n",
    "      abstract = parsed_bs.find(class_=\"card-body acl-abstract\")\n",
    "      abstract = re.search('<span>(.*)</span>', str(abstract)).group(1).strip()\n",
    "    except:\n",
    "      try:\n",
    "        url = paper_url+\".pdf\"\n",
    "        request = requests.get(url)\n",
    "        filestream = io.BytesIO(request.content)\n",
    "        pdf = fitz.open(stream=filestream, filetype=\"pdf\")\n",
    "        page = pdf.load_page(0)\n",
    "        text = page.get_text(\"text\")\n",
    "        text_noline = re.sub(\"-\\n\",\" \",text)\n",
    "        text_noline = re.sub(\"\\n\",\" \",text_noline)\n",
    "        abstract = re.search('Abstract(.*)1 Introduction', text_noline).group(1).strip()\n",
    "      except:\n",
    "        abstract = \"failed_to_scrap\"\n",
    "\n",
    "    # Append to the list\n",
    "    list_year.append(year)\n",
    "    list_title.append(title)\n",
    "    list_conf_jour.append(conf_jour_name)\n",
    "    list_authors.append(authors)\n",
    "    list_keywords.append(keywords)\n",
    "    list_abstract.append(abstract)\n",
    "  \n",
    "  except:\n",
    "    list_year.append(\"no_metadata\")\n",
    "    list_title.append(\"no_metadata\")\n",
    "    list_conf_jour.append(\"no_metadata\")\n",
    "    list_authors.append(\"no_metadata\")\n",
    "    list_keywords.append(\"no_metadata\")\n",
    "    list_abstract.append(\"no_metadata\")\n",
    "\n",
    "  print(index)\n",
    "  index += 1"
   ]
  },
  {
   "cell_type": "code",
   "execution_count": 5,
   "id": "d21df516",
   "metadata": {},
   "outputs": [],
   "source": [
    "# Concatenate list as new column\n",
    "acl[\"Year\"], acl[\"Title\"], acl[\"Conf/Journal Name\"] = list_year, list_title, list_conf_jour\n",
    "acl[\"Authors\"], acl[\"Keywords\"], acl[\"Abstract\"] = list_authors, list_keywords, list_abstract"
   ]
  },
  {
   "cell_type": "code",
   "execution_count": 7,
   "id": "e4f30d2a",
   "metadata": {},
   "outputs": [],
   "source": [
    "acl.to_excel(\"./paper-metadata/PaperMetadata_Unclean_ACL.xlsx\",index=False)"
   ]
  }
 ],
 "metadata": {
  "kernelspec": {
   "display_name": "Python 3 (ipykernel)",
   "language": "python",
   "name": "python3"
  },
  "language_info": {
   "codemirror_mode": {
    "name": "ipython",
    "version": 3
   },
   "file_extension": ".py",
   "mimetype": "text/x-python",
   "name": "python",
   "nbconvert_exporter": "python",
   "pygments_lexer": "ipython3",
   "version": "3.10.2"
  }
 },
 "nbformat": 4,
 "nbformat_minor": 5
}
