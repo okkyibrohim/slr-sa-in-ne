{
 "cells": [
  {
   "cell_type": "code",
   "execution_count": 1,
   "id": "1c4fbd94",
   "metadata": {},
   "outputs": [],
   "source": [
    "import nltk\n",
    "import re\n",
    "from nltk.stem import WordNetLemmatizer \n",
    "import pandas as pd"
   ]
  },
  {
   "cell_type": "code",
   "execution_count": 2,
   "id": "e9073156",
   "metadata": {},
   "outputs": [],
   "source": [
    "# define cleaning function including lemmatizer\n",
    "lemmatizer = WordNetLemmatizer()\n",
    "def cleaning(abs):\n",
    "    abs = re.sub(r'[^\\w\\s]', '', abs.lower()) # lower casing and remove punctuation\n",
    "    word_list = nltk.word_tokenize(abs)\n",
    "    abs_clean = ' '.join([lemmatizer.lemmatize(w) for w in word_list])\n",
    "    return abs_clean"
   ]
  },
  {
   "cell_type": "code",
   "execution_count": 3,
   "id": "9f43bdde",
   "metadata": {},
   "outputs": [],
   "source": [
    "# ACL\n",
    "acl = pd.read_excel(\"./paper-metadata-cleaned/PaperMetadata_ACL.xlsx\")\n",
    "list_absclean = []\n",
    "for abs in acl[\"Abstract\"]:\n",
    "    cleanded_abs = cleaning(abs)\n",
    "    list_absclean.append(cleanded_abs)\n",
    "acl[\"Cleaned Abstract\"] = list_absclean\n",
    "acl.to_excel(\"./paper-metadata-preprocessed/PreprocessedPaperMetadata_ACL.xlsx\", index = False)"
   ]
  },
  {
   "cell_type": "code",
   "execution_count": 4,
   "id": "b2d59d86",
   "metadata": {},
   "outputs": [],
   "source": [
    "# ACM\n",
    "acm = pd.read_excel(\"./paper-metadata-cleaned/PaperMetadata_ACM.xlsx\")\n",
    "list_absclean = []\n",
    "for abs in acm[\"Abstract\"]:\n",
    "    cleanded_abs = cleaning(abs)\n",
    "    list_absclean.append(cleanded_abs)\n",
    "acm[\"Cleaned Abstract\"] = list_absclean\n",
    "acm.to_excel(\"./paper-metadata-preprocessed/PreprocessedPaperMetadata_ACM.xlsx\", index = False)"
   ]
  },
  {
   "cell_type": "code",
   "execution_count": 5,
   "id": "9a0f4d2b",
   "metadata": {},
   "outputs": [],
   "source": [
    "# Arxiv\n",
    "arxiv = pd.read_excel(\"./paper-metadata-cleaned/PaperMetadata_Arxiv.xlsx\")\n",
    "list_absclean = []\n",
    "for abs in arxiv[\"Abstract\"]:\n",
    "    cleanded_abs = cleaning(abs)\n",
    "    list_absclean.append(cleanded_abs)\n",
    "arxiv[\"Cleaned Abstract\"] = list_absclean\n",
    "arxiv.to_excel(\"./paper-metadata-preprocessed/PreprocessedPaperMetadata_Arxiv.xlsx\", index = False)"
   ]
  },
  {
   "cell_type": "code",
   "execution_count": 6,
   "id": "0ef8e2ae",
   "metadata": {},
   "outputs": [],
   "source": [
    "# IEEEXplore\n",
    "ieeexplore = pd.read_excel(\"./paper-metadata-cleaned/PaperMetadata_IEEEXplore.xlsx\")\n",
    "list_absclean = []\n",
    "for abs in ieeexplore[\"Abstract\"]:\n",
    "    cleanded_abs = cleaning(abs)\n",
    "    list_absclean.append(cleanded_abs)\n",
    "ieeexplore[\"Cleaned Abstract\"] = list_absclean\n",
    "ieeexplore.to_excel(\"./paper-metadata-preprocessed/PreprocessedPaperMetadata_IEEEXplore.xlsx\", index = False)"
   ]
  },
  {
   "cell_type": "code",
   "execution_count": 7,
   "id": "7fea68fe",
   "metadata": {},
   "outputs": [],
   "source": [
    "# MDPI\n",
    "mdpi = pd.read_excel(\"./paper-metadata-cleaned/PaperMetadata_MDPI.xlsx\")\n",
    "list_absclean = []\n",
    "for abs in mdpi[\"Abstract\"]:\n",
    "    cleanded_abs = cleaning(abs)\n",
    "    list_absclean.append(cleanded_abs)\n",
    "mdpi[\"Cleaned Abstract\"] = list_absclean\n",
    "mdpi.to_excel(\"./paper-metadata-preprocessed/PreprocessedPaperMetadata_MDPI.xlsx\", index = False)"
   ]
  },
  {
   "cell_type": "code",
   "execution_count": 8,
   "id": "ab7dbb61",
   "metadata": {},
   "outputs": [],
   "source": [
    "# ScienceDirect\n",
    "sciencedirect = pd.read_excel(\"./paper-metadata-cleaned/PaperMetadata_ScienceDirect.xlsx\")\n",
    "list_absclean = []\n",
    "for abs in sciencedirect[\"Abstract\"]:\n",
    "    cleanded_abs = cleaning(abs)\n",
    "    list_absclean.append(cleanded_abs)\n",
    "sciencedirect[\"Cleaned Abstract\"] = list_absclean\n",
    "sciencedirect.to_excel(\"./paper-metadata-preprocessed/PreprocessedPaperMetadata_ScienceDirect.xlsx\", index = False)"
   ]
  },
  {
   "cell_type": "code",
   "execution_count": 9,
   "id": "6a071700",
   "metadata": {},
   "outputs": [],
   "source": [
    "# SpringerOpen\n",
    "springeropen = pd.read_excel(\"./paper-metadata-cleaned/PaperMetadata_SpringerOpen.xlsx\")\n",
    "list_absclean = []\n",
    "for abs in springeropen[\"Abstract\"]:\n",
    "    cleanded_abs = cleaning(abs)\n",
    "    list_absclean.append(cleanded_abs)\n",
    "springeropen[\"Cleaned Abstract\"] = list_absclean\n",
    "springeropen.to_excel(\"./paper-metadata-preprocessed/PreprocessedPaperMetadata_SpringerOpen.xlsx\", index = False)"
   ]
  },
  {
   "cell_type": "code",
   "execution_count": 10,
   "id": "5f18ff70",
   "metadata": {},
   "outputs": [],
   "source": [
    "# Scopus\n",
    "scopus = pd.read_excel(\"./paper-metadata-cleaned/PaperMetadata_Scopus.xlsx\")\n",
    "list_absclean = []\n",
    "for abs in scopus[\"Abstract\"]:\n",
    "    cleanded_abs = cleaning(abs)\n",
    "    list_absclean.append(cleanded_abs)\n",
    "scopus[\"Cleaned Abstract\"] = list_absclean\n",
    "scopus.to_excel(\"./paper-metadata-preprocessed/PreprocessedPaperMetadata_Scopus.xlsx\", index = False)"
   ]
  },
  {
   "cell_type": "code",
   "execution_count": null,
   "id": "399b3fb0",
   "metadata": {},
   "outputs": [],
   "source": []
  }
 ],
 "metadata": {
  "kernelspec": {
   "display_name": "Python 3 (ipykernel)",
   "language": "python",
   "name": "python3"
  },
  "language_info": {
   "codemirror_mode": {
    "name": "ipython",
    "version": 3
   },
   "file_extension": ".py",
   "mimetype": "text/x-python",
   "name": "python",
   "nbconvert_exporter": "python",
   "pygments_lexer": "ipython3",
   "version": "3.10.2"
  }
 },
 "nbformat": 4,
 "nbformat_minor": 5
}
