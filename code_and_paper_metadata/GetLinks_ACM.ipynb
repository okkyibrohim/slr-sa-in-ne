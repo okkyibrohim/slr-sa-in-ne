{
 "cells": [
  {
   "cell_type": "code",
   "execution_count": 1,
   "id": "6724fc89",
   "metadata": {},
   "outputs": [],
   "source": [
    "import time\n",
    "import pandas as pd\n",
    "import undetected_chromedriver as uc\n",
    "from bs4 import BeautifulSoup\n",
    "import urllib3\n",
    "import requests"
   ]
  },
  {
   "cell_type": "code",
   "execution_count": 2,
   "id": "bc876fce",
   "metadata": {},
   "outputs": [],
   "source": [
    "# Open the drive\n",
    "driver = uc.Chrome()"
   ]
  },
  {
   "cell_type": "code",
   "execution_count": 3,
   "id": "bb126b22",
   "metadata": {},
   "outputs": [],
   "source": [
    "query_url = 'https://dl.acm.org/action/doSearch?fillQuickSearch=false&target=advanced&expand=dl&field1=Abstract&text1=%28%E2%80%9CSentiment+Analysis%E2%80%9D%29&field2=Abstract&text2=%28%E2%80%9CGreen%E2%80%9D+OR+%E2%80%9CNature%E2%80%9D+OR+%E2%80%9CEnvironment%E2%80%9D+OR+%E2%80%9CChemical%E2%80%9D+OR+%E2%80%9CFood%E2%80%9D+OR+%E2%80%9CPlant%E2%80%9D+OR+%E2%80%9COrganism%E2%80%9D+OR+%E2%80%9CClimate+Change%E2%80%9D+OR+%E2%80%9CSustainability%E2%80%9D+OR+%22Sustainable%22+OR+%E2%80%9CCarbon%E2%80%9D+OR+%22Emission%22+OR+%22Waste%22+OR+%22Pollution%22+OR+%22Global+Warming%22%29&field3=AllField&text3=%28%E2%80%9CCorpora%E2%80%9D+OR+%E2%80%9CLexicon%E2%80%9D+OR+%E2%80%9CModel%E2%80%9D+OR+%E2%80%9CAlgorithm%E2%80%9D+OR+%E2%80%9CClassifier%E2%80%9D%29&AfterYear=2012&BeforeYear=2022'"
   ]
  },
  {
   "cell_type": "code",
   "execution_count": 4,
   "id": "c1d37b2e",
   "metadata": {},
   "outputs": [],
   "source": [
    "driver.get(query_url)\n",
    "time.sleep(5)"
   ]
  },
  {
   "cell_type": "code",
   "execution_count": null,
   "id": "82cedace",
   "metadata": {},
   "outputs": [],
   "source": [
    "# Get all link for abstract query\n",
    "list_paperlinks = []\n",
    "try:\n",
    "  driver.find_element_by_link_text('Got it!').send_keys('\\n')\n",
    "  time.sleep(5)\n",
    "except:\n",
    "  pass\n",
    "\n",
    "# Get links from the first page\n",
    "links = []\n",
    "hrefs = driver.find_elements_by_xpath(\"//*[@class='hlFld-Title']//*[@href]\")\n",
    "for a in hrefs:\n",
    "    link = a.get_attribute('href')\n",
    "    list_paperlinks.append(link)\n",
    "\n",
    "# Get links from the next page\n",
    "while True:\n",
    "  try:\n",
    "    driver.find_element_by_css_selector(\"[aria-label='Next Page'\").click()\n",
    "    time.sleep(5)\n",
    "    hrefs = driver.find_elements_by_xpath(\"//*[@class='hlFld-Title']//*[@href]\")\n",
    "    for a in hrefs:\n",
    "      link = a.get_attribute('href')\n",
    "      list_paperlinks.append(link)\n",
    "  except:\n",
    "    break"
   ]
  },
  {
   "cell_type": "code",
   "execution_count": 9,
   "id": "2f53ec29",
   "metadata": {},
   "outputs": [],
   "source": [
    "driver.quit()"
   ]
  },
  {
   "cell_type": "code",
   "execution_count": 8,
   "id": "daf644ee",
   "metadata": {},
   "outputs": [
    {
     "data": {
      "text/plain": [
       "71"
      ]
     },
     "execution_count": 8,
     "metadata": {},
     "output_type": "execute_result"
    }
   ],
   "source": [
    "# Wrap into a data frame and save to xlsx\n",
    "list_source = []\n",
    "list_querystring = []\n",
    "list_querylinks = []\n",
    "[list_source.append(\"ACM\") for i in list_paperlinks]\n",
    "[list_querystring.append(\"ALL\") for i in list_paperlinks]\n",
    "[list_querylinks.append(query_url) for i in list_paperlinks]\n",
    "acm_paperlinks = pd.DataFrame({'Source': list_source,'Query': list_querystring, 'Query Links': list_querylinks, 'Paper Links': list_paperlinks})\n",
    "acm_paperlinks.to_excel(\"./paper-links/PaperLinks_ACM.xlsx\", index = False)\n",
    "len(acm_paperlinks)"
   ]
  }
 ],
 "metadata": {
  "kernelspec": {
   "display_name": "Python 3 (ipykernel)",
   "language": "python",
   "name": "python3"
  },
  "language_info": {
   "codemirror_mode": {
    "name": "ipython",
    "version": 3
   },
   "file_extension": ".py",
   "mimetype": "text/x-python",
   "name": "python",
   "nbconvert_exporter": "python",
   "pygments_lexer": "ipython3",
   "version": "3.10.2"
  }
 },
 "nbformat": 4,
 "nbformat_minor": 5
}
