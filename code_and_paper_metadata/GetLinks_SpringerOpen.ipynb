{
 "cells": [
  {
   "cell_type": "code",
   "execution_count": 1,
   "id": "6724fc89",
   "metadata": {},
   "outputs": [],
   "source": [
    "import time\n",
    "import pandas as pd\n",
    "import undetected_chromedriver as uc\n",
    "from bs4 import BeautifulSoup\n",
    "import urllib3\n",
    "import requests"
   ]
  },
  {
   "cell_type": "code",
   "execution_count": 2,
   "id": "bc876fce",
   "metadata": {},
   "outputs": [],
   "source": [
    "# Open the drive\n",
    "driver = uc.Chrome()"
   ]
  },
  {
   "cell_type": "code",
   "execution_count": 3,
   "id": "bb126b22",
   "metadata": {},
   "outputs": [],
   "source": [
    "query_url = 'https://www.springeropen.com/search?query=%28%E2%80%9CSentiment+Analysis%E2%80%9D%29+AND+%28%E2%80%9CGreen%E2%80%9D+OR+%E2%80%9CNature%E2%80%9D+OR+%E2%80%9CEnvironment%E2%80%9D+OR+%E2%80%9CChemical%E2%80%9D+OR+%E2%80%9CFood%E2%80%9D+OR+%E2%80%9CPlant%E2%80%9D+OR+%E2%80%9COrganism%E2%80%9D+OR+%E2%80%9CClimate+Change%E2%80%9D+OR+%E2%80%9CSustainability%E2%80%9D+OR+%22Sustainable%22+OR+%E2%80%9CCarbon%E2%80%9D+OR+%22Emission%22+OR+%22Waste%22+OR+%22Pollution%22+OR+%22Global+Warming%22%29+AND+%28%E2%80%9CCorpora%E2%80%9D+OR+%E2%80%9CLexicon%E2%80%9D+OR+%E2%80%9CModel%E2%80%9D+OR+%E2%80%9CAlgorithm%E2%80%9D+OR+%E2%80%9CClassifier%E2%80%9D%29&searchType=publisherSearch'"
   ]
  },
  {
   "cell_type": "code",
   "execution_count": 4,
   "id": "c1d37b2e",
   "metadata": {},
   "outputs": [],
   "source": [
    "driver.get(query_url)\n",
    "time.sleep(5)"
   ]
  },
  {
   "cell_type": "code",
   "execution_count": null,
   "id": "82cedace",
   "metadata": {},
   "outputs": [],
   "source": [
    "# Get the paper links\n",
    "list_paperlinks = []\n",
    "try:\n",
    "    driver.find_element_by_class_name('cc-banner__button-accept').click()\n",
    "except:\n",
    "    pass\n",
    "\n",
    "# Get links from the first page\n",
    "hrefs = driver.find_elements_by_xpath(\"//*[@class='c-listing__title']//*[@href]\")\n",
    "links = []\n",
    "for a in hrefs:\n",
    "    link = a.get_attribute('href')\n",
    "    list_paperlinks.append(link)\n",
    "\n",
    "# Get links from the next page    \n",
    "while True:\n",
    "    try:\n",
    "        driver.find_element_by_css_selector(\"[rel='next'\").click()\n",
    "        time.sleep(5)\n",
    "        hrefs = driver.find_elements_by_xpath(\"//*[@class='c-listing__title']//*[@href]\")\n",
    "        for a in hrefs:\n",
    "            link = a.get_attribute('href')\n",
    "            list_paperlinks.append(link)\n",
    "    except:\n",
    "        break"
   ]
  },
  {
   "cell_type": "code",
   "execution_count": 6,
   "id": "2f53ec29",
   "metadata": {},
   "outputs": [],
   "source": [
    "driver.quit()"
   ]
  },
  {
   "cell_type": "code",
   "execution_count": null,
   "id": "daf644ee",
   "metadata": {},
   "outputs": [],
   "source": [
    "# Wrap into a data frame and save to xlsx\n",
    "list_source = []\n",
    "list_querystring = []\n",
    "list_querylinks = []\n",
    "[list_source.append(\"SpringerOpen\") for i in list_paperlinks]\n",
    "[list_querystring.append(\"ALL\") for i in list_paperlinks]\n",
    "[list_querylinks.append(query_url) for i in list_paperlinks]\n",
    "springeropen_paperlinks = pd.DataFrame({'Source': list_source,'Query': list_querystring, 'Query Links': list_querylinks, 'Paper Links': list_paperlinks})\n",
    "springeropen_paperlinks.to_excel(\"./paper-links/PaperLinks_SpringerOpen.xlsx\", index = False)\n",
    "len(springeropen_paperlinks)"
   ]
  }
 ],
 "metadata": {
  "kernelspec": {
   "display_name": "Python 3 (ipykernel)",
   "language": "python",
   "name": "python3"
  },
  "language_info": {
   "codemirror_mode": {
    "name": "ipython",
    "version": 3
   },
   "file_extension": ".py",
   "mimetype": "text/x-python",
   "name": "python",
   "nbconvert_exporter": "python",
   "pygments_lexer": "ipython3",
   "version": "3.10.2"
  }
 },
 "nbformat": 4,
 "nbformat_minor": 5
}
